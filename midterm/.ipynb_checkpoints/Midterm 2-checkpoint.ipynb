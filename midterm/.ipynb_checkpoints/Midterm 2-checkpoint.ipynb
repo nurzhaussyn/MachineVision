{
 "cells": [
  {
   "attachments": {
    "front_page.png": {
     "image/png": "[encoded data removed]"
    }
   },
   "cell_type": "markdown",
   "metadata": {},
   "source": [
    "## Midterm 2 - MNIST Classification\n",
    "![front_page.png](attachment:front_page.png)\n",
    "### Preparing environment and dataset:\n",
    "* pip install python-mnist\n",
    "* create folder midterm/data\n",
    "* download from https://drive.google.com/open?id=1AQwyy3xP7rjDWMPkWBW4kKOfpkIyAWt8 - 4 files\n",
    "* extract all files to ./data"
   ]
  },
  {
   "cell_type": "markdown",
   "metadata": {},
   "source": [
    "#### The error of your classifier on test dataset must be better then 12.0% LeCun et al. 1998\n",
    "#### Enter your error at https://goo.gl/forms/r52T6newOqn1Wcw03\n",
    "#### Commit your code to github/bitbucket into folder midterm\n"
   ]
  },
  {
   "cell_type": "code",
   "execution_count": 29,
   "metadata": {},
   "outputs": [
    {
     "name": "stderr",
     "output_type": "stream",
     "text": [
      "C:\\Users\\Nurzhaussyn\\Anaconda3\\lib\\site-packages\\ipykernel_launcher.py:38: UserWarning: Update your `Dense` call to the Keras 2 API: `Dense(160, input_dim=784, activation=\"relu\", kernel_initializer=\"uniform\")`\n",
      "C:\\Users\\Nurzhaussyn\\Anaconda3\\lib\\site-packages\\ipykernel_launcher.py:39: UserWarning: Update your `Dense` call to the Keras 2 API: `Dense(102, activation=\"relu\", kernel_initializer=\"uniform\")`\n",
      "C:\\Users\\Nurzhaussyn\\Anaconda3\\lib\\site-packages\\ipykernel_launcher.py:40: UserWarning: Update your `Dense` call to the Keras 2 API: `Dense(80, activation=\"relu\", kernel_initializer=\"uniform\")`\n",
      "C:\\Users\\Nurzhaussyn\\Anaconda3\\lib\\site-packages\\ipykernel_launcher.py:41: UserWarning: Update your `Dense` call to the Keras 2 API: `Dense(10, kernel_initializer=\"uniform\")`\n"
     ]
    },
    {
     "name": "stdout",
     "output_type": "stream",
     "text": [
      "Epoch 1/25\n",
      "60000/60000 [==============================] - 1s 17us/step - loss: 0.7778 - acc: 0.7639\n",
      "Epoch 2/25\n",
      "60000/60000 [==============================] - 1s 17us/step - loss: 0.2096 - acc: 0.9376\n",
      "Epoch 3/25\n",
      "60000/60000 [==============================] - 1s 19us/step - loss: 0.1414 - acc: 0.9586\n",
      "Epoch 4/25\n",
      "60000/60000 [==============================] - 1s 17us/step - loss: 0.1084 - acc: 0.9683\n",
      "Epoch 5/25\n",
      "60000/60000 [==============================] - 1s 17us/step - loss: 0.0853 - acc: 0.9749\n",
      "Epoch 6/25\n",
      "60000/60000 [==============================] - 1s 17us/step - loss: 0.0706 - acc: 0.9787\n",
      "Epoch 7/25\n",
      "60000/60000 [==============================] - 1s 17us/step - loss: 0.0571 - acc: 0.9835\n",
      "Epoch 8/25\n",
      "60000/60000 [==============================] - 1s 19us/step - loss: 0.0462 - acc: 0.9862\n",
      "Epoch 9/25\n",
      "60000/60000 [==============================] - 1s 18us/step - loss: 0.0371 - acc: 0.9891\n",
      "Epoch 10/25\n",
      "60000/60000 [==============================] - 1s 19us/step - loss: 0.0311 - acc: 0.9910\n",
      "Epoch 11/25\n",
      "60000/60000 [==============================] - 1s 17us/step - loss: 0.0293 - acc: 0.9913\n",
      "Epoch 12/25\n",
      "60000/60000 [==============================] - 1s 18us/step - loss: 0.0257 - acc: 0.9925\n",
      "Epoch 13/25\n",
      "60000/60000 [==============================] - 1s 18us/step - loss: 0.0197 - acc: 0.9945\n",
      "Epoch 14/25\n",
      "60000/60000 [==============================] - 1s 18us/step - loss: 0.0149 - acc: 0.9962\n",
      "Epoch 15/25\n",
      "60000/60000 [==============================] - 1s 19us/step - loss: 0.0122 - acc: 0.9969\n",
      "Epoch 16/25\n",
      "60000/60000 [==============================] - 1s 17us/step - loss: 0.0092 - acc: 0.9980\n",
      "Epoch 17/25\n",
      "60000/60000 [==============================] - 1s 17us/step - loss: 0.0086 - acc: 0.9979\n",
      "Epoch 18/25\n",
      "60000/60000 [==============================] - 1s 17us/step - loss: 0.0069 - acc: 0.9985\n",
      "Epoch 19/25\n",
      "60000/60000 [==============================] - 1s 18us/step - loss: 0.0071 - acc: 0.9984\n",
      "Epoch 20/25\n",
      "60000/60000 [==============================] - 1s 19us/step - loss: 0.0051 - acc: 0.9988\n",
      "Epoch 21/25\n",
      "60000/60000 [==============================] - 1s 18us/step - loss: 0.0045 - acc: 0.9990\n",
      "Epoch 22/25\n",
      "60000/60000 [==============================] - 1s 20us/step - loss: 0.0030 - acc: 0.9996\n",
      "Epoch 23/25\n",
      "60000/60000 [==============================] - 1s 18us/step - loss: 0.0021 - acc: 0.9998\n",
      "Epoch 24/25\n",
      "60000/60000 [==============================] - 1s 18us/step - loss: 0.0013 - acc: 0.9999\n",
      "Epoch 25/25\n",
      "60000/60000 [==============================] - 1s 18us/step - loss: 8.3037e-04 - acc: 1.0000\n",
      "10000/10000 [==============================] - 0s 7us/step\n",
      "loss 9.14917588234\n",
      "acc 98.1399989128\n"
     ]
    }
   ],
   "source": [
    "from keras.models import Sequential\n",
    "from keras.layers import Dense,Reshape,Activation\n",
    "import numpy as np\n",
    "from sklearn.metrics import accuracy_score\n",
    "from keras.utils.np_utils import to_categorical\n",
    "from sklearn.model_selection import train_test_split\n",
    "from mnist import MNIST\n",
    "import random\n",
    "\n",
    "mndata = MNIST('.\\\\data')\n",
    "#X            Y\n",
    "trimages, trlabels = mndata.load_training()\n",
    "teimages, telabels = mndata.load_testing()\n",
    "\n",
    "# index = random.randrange(0, len(trimages))  # choose an index ;-)\n",
    "# #print(mndata.display(trimages[5]))\n",
    "# print('The amount of train images',len(trimages))\n",
    "# print('The amount of test images',len(trimages))\n",
    "# print('The label of random image',trlabels[index],'The random image is',mndata.display(trimages[index]))\n",
    "# print('Images are binary with 28*28 = ',len(trimages[index]))\n",
    "\n",
    "X_trains = np.array(trimages)\n",
    "Y_trains = to_categorical(trlabels)\n",
    "X_tests = np.array(teimages)\n",
    "Y_tests = to_categorical(telabels)\n",
    "\n",
    "model = Sequential()\n",
    "model.add(Dense(160, input_dim=784, init='uniform', activation='relu'))\n",
    "model.add(Dense(102, init='uniform', activation='relu'))\n",
    "model.add(Dense(80, init='uniform', activation='relu'))\n",
    "model.add(Dense(Y_trains.shape[1], init='uniform'))\n",
    "model.add(Activation('sigmoid', name=\"sigmoid\"))\n",
    "\n",
    "model.compile(loss='categorical_crossentropy', optimizer='adam', metrics=['accuracy'])\n",
    "model.fit(X_trains, Y_trains, epochs=25, batch_size=2000, verbose=1)\n",
    "results = model.evaluate(X_tests, Y_tests, batch_size=2000, verbose=1, sample_weight=None)\n",
    "print(\"Results:\")\n",
    "print(model.metrics_names[0], results[0]*100)\n",
    "print(model.metrics_names[1], results[1]*100)"
   ]
  },
  {
   "cell_type": "code",
   "execution_count": null,
   "metadata": {
    "collapsed": true
   },
   "outputs": [],
   "source": []
  }
 ],
 "metadata": {
  "anaconda-cloud": {},
  "kernelspec": {
   "display_name": "Python 3",
   "language": "python",
   "name": "python3"
  },
  "language_info": {
   "codemirror_mode": {
    "name": "ipython",
    "version": 3
   },
   "file_extension": ".py",
   "mimetype": "text/x-python",
   "name": "python",
   "nbconvert_exporter": "python",
   "pygments_lexer": "ipython3",
   "version": "3.6.1"
  }
 },
 "nbformat": 4,
 "nbformat_minor": 2
}
