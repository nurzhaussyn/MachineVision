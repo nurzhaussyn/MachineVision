{
 "cells": [
  {
   "cell_type": "code",
   "execution_count": 94,
   "metadata": {},
   "outputs": [
    {
     "name": "stdout",
     "output_type": "stream",
     "text": [
      "[-733. -732. -731. ...,  731.  732.  733.]\n",
      "[-797.94816196 -796.94816196 -795.94816196 ...,  666.05183804  667.05183804\n",
      "  668.05183804]\n",
      "0.0518380377\n",
      "[798]\n"
     ]
    },
    {
     "name": "stderr",
     "output_type": "stream",
     "text": [
      "C:\\Users\\Nurzhaussyn\\Anaconda3\\lib\\site-packages\\ipykernel_launcher.py:20: DeprecationWarning: object of type <class 'float'> cannot be safely interpreted as an integer.\n",
      "C:\\Users\\Nurzhaussyn\\Anaconda3\\lib\\site-packages\\ipykernel_launcher.py:25: DeprecationWarning: object of type <class 'numpy.float64'> cannot be safely interpreted as an integer.\n"
     ]
    }
   ],
   "source": [
    "import cv2\n",
    "import numpy as np\n",
    "from matplotlib import pyplot as plt\n",
    "from skimage import feature\n",
    "from scipy import ndimage as nimg\n",
    "import matplotlib.image as img\n",
    "from skimage.io import imread\n",
    "from skimage import color\n",
    "import sys\n",
    "import math\n",
    "import pdb\n",
    "\n",
    "img_orig = cv2.imread('lines.jpg')\n",
    "img1 = img_orig[:,:,::-1]\n",
    "bw = cv2.cvtColor(img1, cv2.COLOR_BGR2GRAY)\n",
    "img_g = color.rgb2gray(bw)\n",
    "edges = feature.canny(img_g, sigma=2)\n",
    "\n",
    "nR,nC = edges.shape\n",
    "theta = np.linspace(-90.0, 89.0, 90.0)\n",
    "theta = np.concatenate((theta, -theta[len(theta)-2::-1]))\n",
    "D = np.sqrt((nR - 1)**2 + (nC - 1)**2)\n",
    "q = np.ceil(D)\n",
    "nrho = 2*q + 1\n",
    "rho = np.linspace(-q, q, nrho)\n",
    "H = np.zeros((len(rho), len(theta)))\n",
    "print(rho)\n",
    "print(rho-64.9481619623)\n",
    "print(np.min(np.abs(rho-64.9481619623)))\n",
    "rhoId = np.nonzero(np.abs(rho-64.9481619623) == np.min(np.abs(rho-64.9481619623)))[0]\n",
    "print(rhoId)\n"
   ]
  },
  {
   "cell_type": "code",
   "execution_count": 97,
   "metadata": {},
   "outputs": [
    {
     "name": "stderr",
     "output_type": "stream",
     "text": [
      "C:\\Users\\Nurzhaussyn\\Anaconda3\\lib\\site-packages\\ipykernel_launcher.py:19: DeprecationWarning: object of type <class 'numpy.float64'> cannot be safely interpreted as an integer.\n"
     ]
    },
    {
     "name": "stdout",
     "output_type": "stream",
     "text": [
      "[(797, 90), (797, 90), (797, 90), (797, 90), (797, 90)]\n"
     ]
    }
   ],
   "source": [
    "import cv2\n",
    "import numpy as np\n",
    "from matplotlib import pyplot as plt\n",
    "from skimage import feature\n",
    "from scipy import ndimage as nimg\n",
    "import matplotlib.image as img\n",
    "from skimage.io import imread\n",
    "from skimage import color\n",
    "import sys\n",
    "import math\n",
    "import pdb\n",
    "\n",
    "def hough_transform(img_bin):\n",
    "    nR,nC = img_bin.shape\n",
    "    thetas = np.deg2rad(np.arange(0.0, 180.0))\n",
    "    D = np.sqrt((nR - 1)**2 + (nC - 1)**2)\n",
    "    q = np.ceil(D)\n",
    "    nrho = 2*q + 1\n",
    "    rhos = np.linspace(-q, q, nrho)\n",
    "    cos_t = np.cos(thetas)\n",
    "    sin_t = np.sin(thetas)\n",
    "    H = np.zeros((len(rhos), len(thetas)))\n",
    "    for rowIdx in range(nR):\n",
    "        for colIdx in range(nC):\n",
    "            if img_bin[rowIdx, colIdx]:\n",
    "                for thIdx in range(len(thetas)):\n",
    "                    rhoVal = colIdx*cos_t[thIdx] + rowIdx*sin_t[thIdx]\n",
    "                    rhoIdx = np.nonzero(np.abs(rhos-rhoVal) == np.min(np.abs(rhos-rhoVal)))[0]\n",
    "                    H[rhoIdx, thIdx] += 1\n",
    "    return rhos, thetas, H\n",
    "def hough_peaks(H, num_peaks, nhood_size):\n",
    "    indicies = []\n",
    "    H1 = np.copy(H)\n",
    "    for i in range(num_peaks):\n",
    "        idx = np.argmax(H1)\n",
    "        H1_idx = np.unravel_index(idx, H1.shape) \n",
    "        indicies.append(H1_idx)                    \n",
    "    return indicies, H\n",
    "\n",
    "img_orig = cv2.imread('image.jpg')\n",
    "img1 = img_orig[:,:,::-1]\n",
    "bw = cv2.cvtColor(img1, cv2.COLOR_BGR2GRAY)\n",
    "img_g = color.rgb2gray(bw)\n",
    "img = img_orig.copy()\n",
    "edges = feature.canny(img_g, sigma=2)\n",
    "\n",
    "rhos, thetas, H = hough_transform(edges)\n",
    "\n",
    "indicies, H = hough_peaks(H, 5, 11) \n",
    "print(indicies)"
   ]
  },
  {
   "cell_type": "code",
   "execution_count": null,
   "metadata": {
    "collapsed": true
   },
   "outputs": [],
   "source": []
  }
 ],
 "metadata": {
  "anaconda-cloud": {},
  "kernelspec": {
   "display_name": "Python 3",
   "language": "python",
   "name": "python3"
  },
  "language_info": {
   "codemirror_mode": {
    "name": "ipython",
    "version": 3
   },
   "file_extension": ".py",
   "mimetype": "text/x-python",
   "name": "python",
   "nbconvert_exporter": "python",
   "pygments_lexer": "ipython3",
   "version": "3.6.1"
  }
 },
 "nbformat": 4,
 "nbformat_minor": 2
}
