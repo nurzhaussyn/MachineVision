{
 "cells": [
  {
   "cell_type": "code",
   "execution_count": null,
   "metadata": {
    "collapsed": true
   },
   "outputs": [],
   "source": [
    "import cv2\n",
    "import numpy as np\n",
    "from matplotlib import pyplot as plt\n",
    "from skimage import feature\n",
    "from scipy import ndimage as nimg\n",
    "import matplotlib.image as img\n",
    "from skimage.io import imread\n",
    "from skimage import color\n",
    "import sys\n",
    "import math\n",
    "import pdb\n",
    "\n",
    "img_orig = cv2.imread('lines.jpg')\n",
    "img1 = img_orig[:,:,::-1]\n",
    "bw = cv2.cvtColor(img1, cv2.COLOR_BGR2GRAY)\n",
    "img_g = color.rgb2gray(bw)\n",
    "edges = feature.canny(img_g, sigma=2)\n"
   ]
  }
 ],
 "metadata": {
  "anaconda-cloud": {},
  "kernelspec": {
   "display_name": "Python 3",
   "language": "python",
   "name": "python3"
  },
  "language_info": {
   "codemirror_mode": {
    "name": "ipython",
    "version": 3
   },
   "file_extension": ".py",
   "mimetype": "text/x-python",
   "name": "python",
   "nbconvert_exporter": "python",
   "pygments_lexer": "ipython3",
   "version": "3.6.1"
  }
 },
 "nbformat": 4,
 "nbformat_minor": 2
}
